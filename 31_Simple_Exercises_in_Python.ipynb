{
  "nbformat": 4,
  "nbformat_minor": 0,
  "metadata": {
    "colab": {
      "provenance": []
    },
    "kernelspec": {
      "name": "python3",
      "display_name": "Python 3"
    },
    "language_info": {
      "name": "python"
    }
  },
  "cells": [
    {
      "cell_type": "markdown",
      "source": [
        "\n",
        "\n",
        "> Exercise 1\n",
        "\n"
      ],
      "metadata": {
        "id": "tNVaiND69DnY"
      }
    },
    {
      "cell_type": "code",
      "source": [
        "def max(num1,num2):\n",
        "    if ((not isinstance(num1,int)) and (not isinstance(num1,float))) or ((not isinstance(num2,int)) and (not isinstance(num2,float))):\n",
        "        raise TypeError(\"Both parameters should be integer or float.\")\n",
        "    if num1>num2:\n",
        "        return num1\n",
        "    else:\n",
        "        return num2\n",
        "print(max(3,69))"
      ],
      "metadata": {
        "colab": {
          "base_uri": "https://localhost:8080/"
        },
        "id": "7Tbt1UG39Gxm",
        "outputId": "b1e8754c-e4ac-49e2-bb8a-4cc24c9f91ec"
      },
      "execution_count": null,
      "outputs": [
        {
          "output_type": "stream",
          "name": "stdout",
          "text": [
            "69\n"
          ]
        }
      ]
    },
    {
      "cell_type": "markdown",
      "source": [
        "\n",
        "> Exercise 2\n"
      ],
      "metadata": {
        "id": "gUfE61pa9T3a"
      }
    },
    {
      "cell_type": "code",
      "execution_count": null,
      "metadata": {
        "colab": {
          "base_uri": "https://localhost:8080/"
        },
        "id": "-X2Spybd8_QE",
        "outputId": "4372bbab-36f3-40c9-cc8b-2cc8fe843677"
      },
      "outputs": [
        {
          "output_type": "stream",
          "name": "stdout",
          "text": [
            "900\n"
          ]
        }
      ],
      "source": [
        "def max_of_three(num1, num2, num3):\n",
        "    if ((not isinstance(num1,int)) and (not isinstance(num1,float))) or ((not isinstance(num2,int)) and (not isinstance(num2,float))) or ((not isinstance(num3,int)) and (not isinstance(num3,float))):\n",
        "        raise TypeError(\"All three parameters should be integer or float.\")\n",
        "    max_num = num1\n",
        "    if(num2>max_num):\n",
        "        max_num = num2\n",
        "    if(num3>max_num):\n",
        "        max_num = num3\n",
        "    return max_num\n",
        "    #return max(num1,max(num2,num3))\n",
        "\n",
        "print(max_of_three(36,-366,900))"
      ]
    },
    {
      "cell_type": "markdown",
      "source": [
        "\n",
        "> Exercise 3\n"
      ],
      "metadata": {
        "id": "OggQlfLY9esi"
      }
    },
    {
      "cell_type": "code",
      "source": [
        "def custom_len(given_list_or_string):\n",
        "    if(not isinstance(given_list_or_string, str)) and (not isinstance(given_list_or_string, list)):\n",
        "        raise TypeError(\"Parameter should be list or string type\")\n",
        "    cnt = 0\n",
        "    for elem in given_list_or_string:\n",
        "        cnt+=1\n",
        "    return cnt\n",
        "print(custom_len(\"asdfgh\"))"
      ],
      "metadata": {
        "colab": {
          "base_uri": "https://localhost:8080/"
        },
        "id": "ulfV3l6O9cej",
        "outputId": "438c1e25-647a-47fa-f939-399286e1c417"
      },
      "execution_count": null,
      "outputs": [
        {
          "output_type": "stream",
          "name": "stdout",
          "text": [
            "6\n"
          ]
        }
      ]
    },
    {
      "cell_type": "markdown",
      "source": [
        "\n",
        "> Exercise 4"
      ],
      "metadata": {
        "id": "t9HG9Z0a9ftm"
      }
    },
    {
      "cell_type": "code",
      "source": [
        "def check_vowel(single_char):\n",
        "    if(not isinstance(single_char, str)) or (len(single_char)!=1):\n",
        "        raise TypeError(\"Parameter should be a single character.\")\n",
        "    single_char = single_char.lower()\n",
        "    return single_char in ['a','e','i','o','u']\n",
        "print(check_vowel(\"E\"))"
      ],
      "metadata": {
        "colab": {
          "base_uri": "https://localhost:8080/"
        },
        "id": "zC0RjBzJ9k32",
        "outputId": "2b9fa765-64ea-46e1-fc25-b66bfa9cedca"
      },
      "execution_count": null,
      "outputs": [
        {
          "output_type": "stream",
          "name": "stdout",
          "text": [
            "True\n"
          ]
        }
      ]
    },
    {
      "cell_type": "markdown",
      "source": [
        "\n",
        "> Exercise 5\n"
      ],
      "metadata": {
        "id": "C4j8hq2-9lgC"
      }
    },
    {
      "cell_type": "code",
      "source": [
        "import string\n",
        "def translate(text):\n",
        "    if(not isinstance(text, str)):\n",
        "        raise TypeError(\"Parameter should be string.\")\n",
        "\n",
        "    all_letter = string.ascii_letters\n",
        "    vowel_letter = ['A', 'E', 'I', 'O', 'U', 'a', 'e', 'i', 'o', 'u']\n",
        "    constant_letter = [c for c in all_letter if c not in vowel_letter]\n",
        "\n",
        "    output = \"\"\n",
        "    for c in text:\n",
        "        if c in constant_letter:\n",
        "            output+=c+\"o\"+c\n",
        "        else:\n",
        "            output+=c\n",
        "    return output\n",
        "print(translate(\"this is fun\"))"
      ],
      "metadata": {
        "colab": {
          "base_uri": "https://localhost:8080/"
        },
        "id": "hisyuhC49nmg",
        "outputId": "ac84fced-34b1-473e-af88-2138203ce076"
      },
      "execution_count": null,
      "outputs": [
        {
          "output_type": "stream",
          "name": "stdout",
          "text": [
            "tothohisos isos fofunon\n"
          ]
        }
      ]
    },
    {
      "cell_type": "markdown",
      "source": [
        "\n",
        "> Exercise 6\n"
      ],
      "metadata": {
        "id": "6fi9qJVl98xG"
      }
    },
    {
      "cell_type": "code",
      "source": [
        "def sum(num_list):\n",
        "    total = 0\n",
        "    for c in num_list:\n",
        "        total+=c\n",
        "    return total\n",
        "\n",
        "def multiply(num_list):\n",
        "    total = 1\n",
        "    for c in num_list:\n",
        "        total*=c\n",
        "    return total\n",
        "\n",
        "print(sum([1,2,3,4]))\n",
        "print(multiply([1,2,3,4]))"
      ],
      "metadata": {
        "colab": {
          "base_uri": "https://localhost:8080/"
        },
        "id": "DD305ggo94Or",
        "outputId": "6b6f785f-a080-44d1-99ba-6ed9efb0c97a"
      },
      "execution_count": null,
      "outputs": [
        {
          "output_type": "stream",
          "name": "stdout",
          "text": [
            "10\n",
            "24\n"
          ]
        }
      ]
    },
    {
      "cell_type": "markdown",
      "source": [
        "\n",
        "> Exercise 7\n"
      ],
      "metadata": {
        "id": "J2XIpNTe9_aA"
      }
    },
    {
      "cell_type": "code",
      "source": [
        "def reverse(string):\n",
        "    length = len(string)\n",
        "    ab = ''\n",
        "    for i in range(length):\n",
        "        ab += string[length-1]\n",
        "        length -= 1\n",
        "    return ab\n",
        "\n",
        "print(reverse(\"I am testing\"))"
      ],
      "metadata": {
        "colab": {
          "base_uri": "https://localhost:8080/"
        },
        "id": "Ya7GyqMS9-oC",
        "outputId": "a82c674c-9b8c-4402-caca-b678ecdc3a2f"
      },
      "execution_count": null,
      "outputs": [
        {
          "output_type": "stream",
          "name": "stdout",
          "text": [
            "gnitset ma I\n"
          ]
        }
      ]
    },
    {
      "cell_type": "markdown",
      "source": [
        "\n",
        "> Exercise 8\n"
      ],
      "metadata": {
        "id": "iUbo9juB9_Jp"
      }
    },
    {
      "cell_type": "code",
      "source": [
        "def is_palindrome(string):\n",
        "    ab = ''\n",
        "    length = len(string)\n",
        "    for i in range(length):\n",
        "        ab += string[length-1]\n",
        "        length -= 1\n",
        "    if string == ab:\n",
        "        return True\n",
        "    else:\n",
        "        return False\n",
        "\n",
        "\n",
        "print(is_palindrome(\"radar\"))\n",
        "print(is_palindrome(\"abcde\"))"
      ],
      "metadata": {
        "colab": {
          "base_uri": "https://localhost:8080/"
        },
        "id": "xnTiOBO9-Ccf",
        "outputId": "f3b484bb-c93b-4471-bd96-d12be933da61"
      },
      "execution_count": null,
      "outputs": [
        {
          "output_type": "stream",
          "name": "stdout",
          "text": [
            "True\n",
            "False\n"
          ]
        }
      ]
    },
    {
      "cell_type": "markdown",
      "source": [
        "\n",
        "> Exercise 9\n"
      ],
      "metadata": {
        "id": "Lqi6Lg1X9--6"
      }
    },
    {
      "cell_type": "code",
      "source": [
        "def is_member(item,list_var):\n",
        "    length = len(list_var)\n",
        "    i=0\n",
        "    while i < length:\n",
        "        if item == list_var[i-1]:\n",
        "            return True\n",
        "        i += 1\n",
        "    return False\n",
        "\n",
        "abc = [1,4,6,9,34]\n",
        "print(is_member(9,abc))\n",
        "print(is_member(11,abc))"
      ],
      "metadata": {
        "colab": {
          "base_uri": "https://localhost:8080/"
        },
        "id": "jz7umhXo-CPO",
        "outputId": "c5c75d3e-67b3-4379-98ea-ec6b754ee8b9"
      },
      "execution_count": null,
      "outputs": [
        {
          "output_type": "stream",
          "name": "stdout",
          "text": [
            "True\n",
            "False\n"
          ]
        }
      ]
    },
    {
      "cell_type": "markdown",
      "source": [
        "\n",
        "> Exercise 10\n"
      ],
      "metadata": {
        "id": "mGS724OO-KX4"
      }
    },
    {
      "cell_type": "code",
      "source": [
        "def overlapping(list1,list2):\n",
        "    for i in list1:\n",
        "        for j in list2:\n",
        "            if i == j:\n",
        "                return True\n",
        "\n",
        "    return False\n",
        "\n",
        "a = [3,4,5,6,7]\n",
        "b = [6,7,8,9,10]\n",
        "c = [91,92,93]\n",
        "\n",
        "print(overlapping(a,b))\n",
        "print(overlapping(a,c))"
      ],
      "metadata": {
        "colab": {
          "base_uri": "https://localhost:8080/"
        },
        "id": "BmrWRJh--Lwz",
        "outputId": "e633d78f-ffe0-4a03-e2d0-b05b04ef097c"
      },
      "execution_count": null,
      "outputs": [
        {
          "output_type": "stream",
          "name": "stdout",
          "text": [
            "True\n",
            "False\n"
          ]
        }
      ]
    },
    {
      "cell_type": "markdown",
      "source": [
        "> Exercise 11"
      ],
      "metadata": {
        "id": "fB2ov_mOJZ30"
      }
    },
    {
      "cell_type": "code",
      "source": [
        "def generate_n_chars(n,c):\n",
        "    s = ''\n",
        "    for i in range(n):\n",
        "        s += c\n",
        "    return s\n",
        "\n",
        "print(generate_n_chars(5,\"x\"))"
      ],
      "metadata": {
        "colab": {
          "base_uri": "https://localhost:8080/"
        },
        "id": "jsM4nsVvKMy1",
        "outputId": "cc0d4ada-da8e-4ae7-a34f-153260de49a6"
      },
      "execution_count": 13,
      "outputs": [
        {
          "output_type": "stream",
          "name": "stdout",
          "text": [
            "xxxxx\n"
          ]
        }
      ]
    },
    {
      "cell_type": "markdown",
      "source": [
        "> Exercise 12"
      ],
      "metadata": {
        "id": "C1S3S7AjJZx6"
      }
    },
    {
      "cell_type": "code",
      "source": [
        "def histogram(list_var):\n",
        "    for i in list_var:\n",
        "        print('*'*i)\n",
        "\n",
        "histogram([4, 9, 7])"
      ],
      "metadata": {
        "colab": {
          "base_uri": "https://localhost:8080/"
        },
        "id": "1gametPoKNZZ",
        "outputId": "758a435a-b8cc-4cd2-d92f-f533860e8d09"
      },
      "execution_count": 15,
      "outputs": [
        {
          "output_type": "stream",
          "name": "stdout",
          "text": [
            "****\n",
            "*********\n",
            "*******\n"
          ]
        }
      ]
    },
    {
      "cell_type": "markdown",
      "source": [
        "> Exercise 13"
      ],
      "metadata": {
        "id": "X6M_xybzJZqr"
      }
    },
    {
      "cell_type": "code",
      "source": [
        "def a(listname):\n",
        "    length = len(listname)\n",
        "    tmp = []\n",
        "    for i in range(0,length-1):\n",
        "        maximum = max(listname[i],listname[i+1])\n",
        "        tmp.append(maximum)\n",
        "    return tmp\n",
        "\n",
        "def max_in_list(abc):\n",
        "    if len(abc) == 1:\n",
        "        return abc[0]\n",
        "    else:\n",
        "        return max_in_list(a(abc))\n",
        "\n",
        "ab = [3,7,98,34,12,14]\n",
        "print(max_in_list(ab))"
      ],
      "metadata": {
        "colab": {
          "base_uri": "https://localhost:8080/"
        },
        "id": "4vcXa2fAKN6g",
        "outputId": "f77adf8f-8029-4678-d3a9-701b030f9392"
      },
      "execution_count": 16,
      "outputs": [
        {
          "output_type": "stream",
          "name": "stdout",
          "text": [
            "98\n"
          ]
        }
      ]
    },
    {
      "cell_type": "markdown",
      "source": [
        "> Exercise 14"
      ],
      "metadata": {
        "id": "HeF-P7tAJZjK"
      }
    },
    {
      "cell_type": "code",
      "source": [
        "def count(list_var):\n",
        "    value = []\n",
        "    for i in list_var:\n",
        "        count = 0\n",
        "        for j in i:\n",
        "            count += 1\n",
        "        value.append(count)\n",
        "    return value\n",
        "\n",
        "ab = ['abc','defgh','pqrstuvw']\n",
        "print(count(ab))"
      ],
      "metadata": {
        "colab": {
          "base_uri": "https://localhost:8080/"
        },
        "id": "bUnZKUd8KOSn",
        "outputId": "766265fb-e94a-48df-aa04-53c530990871"
      },
      "execution_count": 17,
      "outputs": [
        {
          "output_type": "stream",
          "name": "stdout",
          "text": [
            "[3, 5, 8]\n"
          ]
        }
      ]
    },
    {
      "cell_type": "markdown",
      "source": [
        "> Exercise 15"
      ],
      "metadata": {
        "id": "IaHS9XjBJZcS"
      }
    },
    {
      "cell_type": "code",
      "source": [
        "def countmax(list):\n",
        "    value = []\n",
        "    for i in list:\n",
        "        value.append(len(i))\n",
        "    value.sort()\n",
        "    return value[-1]\n",
        "\n",
        "\n",
        "ab = ['abc','defgh','pqrstuvw','']\n",
        "print(countmax(ab))"
      ],
      "metadata": {
        "colab": {
          "base_uri": "https://localhost:8080/"
        },
        "id": "SnKbpD3jKPUX",
        "outputId": "3c269c7f-e097-4f1a-c8eb-1544325a38b3"
      },
      "execution_count": 18,
      "outputs": [
        {
          "output_type": "stream",
          "name": "stdout",
          "text": [
            "8\n"
          ]
        }
      ]
    },
    {
      "cell_type": "markdown",
      "source": [
        "> Exercise 16"
      ],
      "metadata": {
        "id": "G979T0sxJZWY"
      }
    },
    {
      "cell_type": "code",
      "source": [
        "def filter_long_words(list_var,n):\n",
        "    gt = []\n",
        "    for x in list_var:\n",
        "        if len(x) > n:\n",
        "            gt.append(x)\n",
        "    return gt\n",
        "\n",
        "ab = ['abc','defgh','pqrstuvw','','abdghtfd']\n",
        "print(filter_long_words(ab,5))"
      ],
      "metadata": {
        "colab": {
          "base_uri": "https://localhost:8080/"
        },
        "id": "B-LWvXusKP1V",
        "outputId": "dfe0921c-8d48-42ca-92b5-1afe472cdbc7"
      },
      "execution_count": 19,
      "outputs": [
        {
          "output_type": "stream",
          "name": "stdout",
          "text": [
            "['pqrstuvw', 'abdghtfd']\n"
          ]
        }
      ]
    },
    {
      "cell_type": "markdown",
      "source": [
        "> Exercise 17"
      ],
      "metadata": {
        "id": "BfMgn9TRJZPO"
      }
    },
    {
      "cell_type": "code",
      "source": [
        "def palindrome(string):\n",
        "    string = string.lower()    #only string.lower won't work\n",
        "    string = string.replace(\" \",\"\")  #must be contained in\n",
        "    tem = ['.',',','!','?','\\\"',\"\\'\"]   #variable  :)\n",
        "    for i in tem:\n",
        "        string = string.replace(i,\"\")\n",
        "    tmp=''\n",
        "    length = len(string)\n",
        "    for i in range(length):\n",
        "        tmp += string[length-1]\n",
        "        length -= 1\n",
        "    if string == tmp:\n",
        "        return True\n",
        "    else:\n",
        "        return False\n",
        "\n",
        "ab = \"Was it a rat I saw?\"\n",
        "print (palindrome(ab))"
      ],
      "metadata": {
        "colab": {
          "base_uri": "https://localhost:8080/"
        },
        "id": "9VW5KwfoKQj5",
        "outputId": "c0076b7f-4e5c-4b12-bf40-60a7d08b4d1a"
      },
      "execution_count": 20,
      "outputs": [
        {
          "output_type": "stream",
          "name": "stdout",
          "text": [
            "True\n"
          ]
        }
      ]
    },
    {
      "cell_type": "markdown",
      "source": [
        "> Exercise 18"
      ],
      "metadata": {
        "id": "j85JYog-JZIP"
      }
    },
    {
      "cell_type": "code",
      "source": [
        "def pangram(string):\n",
        "    string = string.lower()\n",
        "    alphabet = ['a','b','c','d','e','f','g','h',\\\n",
        "                'i','j','k','l','m','n','o','p',\\\n",
        "                'q','r','s','t','u','v','w','x','y','z']\n",
        "\n",
        "    a = 0\n",
        "    for i in alphabet:\n",
        "        if i not in string:\n",
        "            print(\"it's not a pangram\")\n",
        "            a = 5\n",
        "            break\n",
        "\n",
        "    if a != 5:\n",
        "        print(\"it's a pangram\")\n",
        "\n",
        "ab = \"The quick brown fox jumps over the lazy dog.\"\n",
        "pangram(ab)"
      ],
      "metadata": {
        "colab": {
          "base_uri": "https://localhost:8080/"
        },
        "id": "l9AL0NK_KRCY",
        "outputId": "575f1556-756c-4dec-bffb-18b92e4a54a1"
      },
      "execution_count": 21,
      "outputs": [
        {
          "output_type": "stream",
          "name": "stdout",
          "text": [
            "it's a pangram\n"
          ]
        }
      ]
    },
    {
      "cell_type": "markdown",
      "source": [
        "> Exercise 19"
      ],
      "metadata": {
        "id": "chRzeWPBJY-o"
      }
    },
    {
      "cell_type": "code",
      "source": [
        "def sing_99_bottles_of_beer():\n",
        "    n = 99\n",
        "    song = ''\n",
        "    for i in range(n,0,-1):\n",
        "        song+=str(i)+' bottles of beer on the wall, '+str(i)+' bottles of beer.\\n\\\n",
        "Take one down, pass it around, '+str(i-1)+' bottles of beer on the wall.\\n\\n'\n",
        "    return song\n",
        "\n",
        "print(sing_99_bottles_of_beer())"
      ],
      "metadata": {
        "colab": {
          "base_uri": "https://localhost:8080/"
        },
        "id": "wdCyCQFjKRwQ",
        "outputId": "8a6ddf25-0141-48c6-e83a-2b331cf51a29"
      },
      "execution_count": 22,
      "outputs": [
        {
          "output_type": "stream",
          "name": "stdout",
          "text": [
            "99 bottles of beer on the wall, 99 bottles of beer.\n",
            "Take one down, pass it around, 98 bottles of beer on the wall.\n",
            "\n",
            "98 bottles of beer on the wall, 98 bottles of beer.\n",
            "Take one down, pass it around, 97 bottles of beer on the wall.\n",
            "\n",
            "97 bottles of beer on the wall, 97 bottles of beer.\n",
            "Take one down, pass it around, 96 bottles of beer on the wall.\n",
            "\n",
            "96 bottles of beer on the wall, 96 bottles of beer.\n",
            "Take one down, pass it around, 95 bottles of beer on the wall.\n",
            "\n",
            "95 bottles of beer on the wall, 95 bottles of beer.\n",
            "Take one down, pass it around, 94 bottles of beer on the wall.\n",
            "\n",
            "94 bottles of beer on the wall, 94 bottles of beer.\n",
            "Take one down, pass it around, 93 bottles of beer on the wall.\n",
            "\n",
            "93 bottles of beer on the wall, 93 bottles of beer.\n",
            "Take one down, pass it around, 92 bottles of beer on the wall.\n",
            "\n",
            "92 bottles of beer on the wall, 92 bottles of beer.\n",
            "Take one down, pass it around, 91 bottles of beer on the wall.\n",
            "\n",
            "91 bottles of beer on the wall, 91 bottles of beer.\n",
            "Take one down, pass it around, 90 bottles of beer on the wall.\n",
            "\n",
            "90 bottles of beer on the wall, 90 bottles of beer.\n",
            "Take one down, pass it around, 89 bottles of beer on the wall.\n",
            "\n",
            "89 bottles of beer on the wall, 89 bottles of beer.\n",
            "Take one down, pass it around, 88 bottles of beer on the wall.\n",
            "\n",
            "88 bottles of beer on the wall, 88 bottles of beer.\n",
            "Take one down, pass it around, 87 bottles of beer on the wall.\n",
            "\n",
            "87 bottles of beer on the wall, 87 bottles of beer.\n",
            "Take one down, pass it around, 86 bottles of beer on the wall.\n",
            "\n",
            "86 bottles of beer on the wall, 86 bottles of beer.\n",
            "Take one down, pass it around, 85 bottles of beer on the wall.\n",
            "\n",
            "85 bottles of beer on the wall, 85 bottles of beer.\n",
            "Take one down, pass it around, 84 bottles of beer on the wall.\n",
            "\n",
            "84 bottles of beer on the wall, 84 bottles of beer.\n",
            "Take one down, pass it around, 83 bottles of beer on the wall.\n",
            "\n",
            "83 bottles of beer on the wall, 83 bottles of beer.\n",
            "Take one down, pass it around, 82 bottles of beer on the wall.\n",
            "\n",
            "82 bottles of beer on the wall, 82 bottles of beer.\n",
            "Take one down, pass it around, 81 bottles of beer on the wall.\n",
            "\n",
            "81 bottles of beer on the wall, 81 bottles of beer.\n",
            "Take one down, pass it around, 80 bottles of beer on the wall.\n",
            "\n",
            "80 bottles of beer on the wall, 80 bottles of beer.\n",
            "Take one down, pass it around, 79 bottles of beer on the wall.\n",
            "\n",
            "79 bottles of beer on the wall, 79 bottles of beer.\n",
            "Take one down, pass it around, 78 bottles of beer on the wall.\n",
            "\n",
            "78 bottles of beer on the wall, 78 bottles of beer.\n",
            "Take one down, pass it around, 77 bottles of beer on the wall.\n",
            "\n",
            "77 bottles of beer on the wall, 77 bottles of beer.\n",
            "Take one down, pass it around, 76 bottles of beer on the wall.\n",
            "\n",
            "76 bottles of beer on the wall, 76 bottles of beer.\n",
            "Take one down, pass it around, 75 bottles of beer on the wall.\n",
            "\n",
            "75 bottles of beer on the wall, 75 bottles of beer.\n",
            "Take one down, pass it around, 74 bottles of beer on the wall.\n",
            "\n",
            "74 bottles of beer on the wall, 74 bottles of beer.\n",
            "Take one down, pass it around, 73 bottles of beer on the wall.\n",
            "\n",
            "73 bottles of beer on the wall, 73 bottles of beer.\n",
            "Take one down, pass it around, 72 bottles of beer on the wall.\n",
            "\n",
            "72 bottles of beer on the wall, 72 bottles of beer.\n",
            "Take one down, pass it around, 71 bottles of beer on the wall.\n",
            "\n",
            "71 bottles of beer on the wall, 71 bottles of beer.\n",
            "Take one down, pass it around, 70 bottles of beer on the wall.\n",
            "\n",
            "70 bottles of beer on the wall, 70 bottles of beer.\n",
            "Take one down, pass it around, 69 bottles of beer on the wall.\n",
            "\n",
            "69 bottles of beer on the wall, 69 bottles of beer.\n",
            "Take one down, pass it around, 68 bottles of beer on the wall.\n",
            "\n",
            "68 bottles of beer on the wall, 68 bottles of beer.\n",
            "Take one down, pass it around, 67 bottles of beer on the wall.\n",
            "\n",
            "67 bottles of beer on the wall, 67 bottles of beer.\n",
            "Take one down, pass it around, 66 bottles of beer on the wall.\n",
            "\n",
            "66 bottles of beer on the wall, 66 bottles of beer.\n",
            "Take one down, pass it around, 65 bottles of beer on the wall.\n",
            "\n",
            "65 bottles of beer on the wall, 65 bottles of beer.\n",
            "Take one down, pass it around, 64 bottles of beer on the wall.\n",
            "\n",
            "64 bottles of beer on the wall, 64 bottles of beer.\n",
            "Take one down, pass it around, 63 bottles of beer on the wall.\n",
            "\n",
            "63 bottles of beer on the wall, 63 bottles of beer.\n",
            "Take one down, pass it around, 62 bottles of beer on the wall.\n",
            "\n",
            "62 bottles of beer on the wall, 62 bottles of beer.\n",
            "Take one down, pass it around, 61 bottles of beer on the wall.\n",
            "\n",
            "61 bottles of beer on the wall, 61 bottles of beer.\n",
            "Take one down, pass it around, 60 bottles of beer on the wall.\n",
            "\n",
            "60 bottles of beer on the wall, 60 bottles of beer.\n",
            "Take one down, pass it around, 59 bottles of beer on the wall.\n",
            "\n",
            "59 bottles of beer on the wall, 59 bottles of beer.\n",
            "Take one down, pass it around, 58 bottles of beer on the wall.\n",
            "\n",
            "58 bottles of beer on the wall, 58 bottles of beer.\n",
            "Take one down, pass it around, 57 bottles of beer on the wall.\n",
            "\n",
            "57 bottles of beer on the wall, 57 bottles of beer.\n",
            "Take one down, pass it around, 56 bottles of beer on the wall.\n",
            "\n",
            "56 bottles of beer on the wall, 56 bottles of beer.\n",
            "Take one down, pass it around, 55 bottles of beer on the wall.\n",
            "\n",
            "55 bottles of beer on the wall, 55 bottles of beer.\n",
            "Take one down, pass it around, 54 bottles of beer on the wall.\n",
            "\n",
            "54 bottles of beer on the wall, 54 bottles of beer.\n",
            "Take one down, pass it around, 53 bottles of beer on the wall.\n",
            "\n",
            "53 bottles of beer on the wall, 53 bottles of beer.\n",
            "Take one down, pass it around, 52 bottles of beer on the wall.\n",
            "\n",
            "52 bottles of beer on the wall, 52 bottles of beer.\n",
            "Take one down, pass it around, 51 bottles of beer on the wall.\n",
            "\n",
            "51 bottles of beer on the wall, 51 bottles of beer.\n",
            "Take one down, pass it around, 50 bottles of beer on the wall.\n",
            "\n",
            "50 bottles of beer on the wall, 50 bottles of beer.\n",
            "Take one down, pass it around, 49 bottles of beer on the wall.\n",
            "\n",
            "49 bottles of beer on the wall, 49 bottles of beer.\n",
            "Take one down, pass it around, 48 bottles of beer on the wall.\n",
            "\n",
            "48 bottles of beer on the wall, 48 bottles of beer.\n",
            "Take one down, pass it around, 47 bottles of beer on the wall.\n",
            "\n",
            "47 bottles of beer on the wall, 47 bottles of beer.\n",
            "Take one down, pass it around, 46 bottles of beer on the wall.\n",
            "\n",
            "46 bottles of beer on the wall, 46 bottles of beer.\n",
            "Take one down, pass it around, 45 bottles of beer on the wall.\n",
            "\n",
            "45 bottles of beer on the wall, 45 bottles of beer.\n",
            "Take one down, pass it around, 44 bottles of beer on the wall.\n",
            "\n",
            "44 bottles of beer on the wall, 44 bottles of beer.\n",
            "Take one down, pass it around, 43 bottles of beer on the wall.\n",
            "\n",
            "43 bottles of beer on the wall, 43 bottles of beer.\n",
            "Take one down, pass it around, 42 bottles of beer on the wall.\n",
            "\n",
            "42 bottles of beer on the wall, 42 bottles of beer.\n",
            "Take one down, pass it around, 41 bottles of beer on the wall.\n",
            "\n",
            "41 bottles of beer on the wall, 41 bottles of beer.\n",
            "Take one down, pass it around, 40 bottles of beer on the wall.\n",
            "\n",
            "40 bottles of beer on the wall, 40 bottles of beer.\n",
            "Take one down, pass it around, 39 bottles of beer on the wall.\n",
            "\n",
            "39 bottles of beer on the wall, 39 bottles of beer.\n",
            "Take one down, pass it around, 38 bottles of beer on the wall.\n",
            "\n",
            "38 bottles of beer on the wall, 38 bottles of beer.\n",
            "Take one down, pass it around, 37 bottles of beer on the wall.\n",
            "\n",
            "37 bottles of beer on the wall, 37 bottles of beer.\n",
            "Take one down, pass it around, 36 bottles of beer on the wall.\n",
            "\n",
            "36 bottles of beer on the wall, 36 bottles of beer.\n",
            "Take one down, pass it around, 35 bottles of beer on the wall.\n",
            "\n",
            "35 bottles of beer on the wall, 35 bottles of beer.\n",
            "Take one down, pass it around, 34 bottles of beer on the wall.\n",
            "\n",
            "34 bottles of beer on the wall, 34 bottles of beer.\n",
            "Take one down, pass it around, 33 bottles of beer on the wall.\n",
            "\n",
            "33 bottles of beer on the wall, 33 bottles of beer.\n",
            "Take one down, pass it around, 32 bottles of beer on the wall.\n",
            "\n",
            "32 bottles of beer on the wall, 32 bottles of beer.\n",
            "Take one down, pass it around, 31 bottles of beer on the wall.\n",
            "\n",
            "31 bottles of beer on the wall, 31 bottles of beer.\n",
            "Take one down, pass it around, 30 bottles of beer on the wall.\n",
            "\n",
            "30 bottles of beer on the wall, 30 bottles of beer.\n",
            "Take one down, pass it around, 29 bottles of beer on the wall.\n",
            "\n",
            "29 bottles of beer on the wall, 29 bottles of beer.\n",
            "Take one down, pass it around, 28 bottles of beer on the wall.\n",
            "\n",
            "28 bottles of beer on the wall, 28 bottles of beer.\n",
            "Take one down, pass it around, 27 bottles of beer on the wall.\n",
            "\n",
            "27 bottles of beer on the wall, 27 bottles of beer.\n",
            "Take one down, pass it around, 26 bottles of beer on the wall.\n",
            "\n",
            "26 bottles of beer on the wall, 26 bottles of beer.\n",
            "Take one down, pass it around, 25 bottles of beer on the wall.\n",
            "\n",
            "25 bottles of beer on the wall, 25 bottles of beer.\n",
            "Take one down, pass it around, 24 bottles of beer on the wall.\n",
            "\n",
            "24 bottles of beer on the wall, 24 bottles of beer.\n",
            "Take one down, pass it around, 23 bottles of beer on the wall.\n",
            "\n",
            "23 bottles of beer on the wall, 23 bottles of beer.\n",
            "Take one down, pass it around, 22 bottles of beer on the wall.\n",
            "\n",
            "22 bottles of beer on the wall, 22 bottles of beer.\n",
            "Take one down, pass it around, 21 bottles of beer on the wall.\n",
            "\n",
            "21 bottles of beer on the wall, 21 bottles of beer.\n",
            "Take one down, pass it around, 20 bottles of beer on the wall.\n",
            "\n",
            "20 bottles of beer on the wall, 20 bottles of beer.\n",
            "Take one down, pass it around, 19 bottles of beer on the wall.\n",
            "\n",
            "19 bottles of beer on the wall, 19 bottles of beer.\n",
            "Take one down, pass it around, 18 bottles of beer on the wall.\n",
            "\n",
            "18 bottles of beer on the wall, 18 bottles of beer.\n",
            "Take one down, pass it around, 17 bottles of beer on the wall.\n",
            "\n",
            "17 bottles of beer on the wall, 17 bottles of beer.\n",
            "Take one down, pass it around, 16 bottles of beer on the wall.\n",
            "\n",
            "16 bottles of beer on the wall, 16 bottles of beer.\n",
            "Take one down, pass it around, 15 bottles of beer on the wall.\n",
            "\n",
            "15 bottles of beer on the wall, 15 bottles of beer.\n",
            "Take one down, pass it around, 14 bottles of beer on the wall.\n",
            "\n",
            "14 bottles of beer on the wall, 14 bottles of beer.\n",
            "Take one down, pass it around, 13 bottles of beer on the wall.\n",
            "\n",
            "13 bottles of beer on the wall, 13 bottles of beer.\n",
            "Take one down, pass it around, 12 bottles of beer on the wall.\n",
            "\n",
            "12 bottles of beer on the wall, 12 bottles of beer.\n",
            "Take one down, pass it around, 11 bottles of beer on the wall.\n",
            "\n",
            "11 bottles of beer on the wall, 11 bottles of beer.\n",
            "Take one down, pass it around, 10 bottles of beer on the wall.\n",
            "\n",
            "10 bottles of beer on the wall, 10 bottles of beer.\n",
            "Take one down, pass it around, 9 bottles of beer on the wall.\n",
            "\n",
            "9 bottles of beer on the wall, 9 bottles of beer.\n",
            "Take one down, pass it around, 8 bottles of beer on the wall.\n",
            "\n",
            "8 bottles of beer on the wall, 8 bottles of beer.\n",
            "Take one down, pass it around, 7 bottles of beer on the wall.\n",
            "\n",
            "7 bottles of beer on the wall, 7 bottles of beer.\n",
            "Take one down, pass it around, 6 bottles of beer on the wall.\n",
            "\n",
            "6 bottles of beer on the wall, 6 bottles of beer.\n",
            "Take one down, pass it around, 5 bottles of beer on the wall.\n",
            "\n",
            "5 bottles of beer on the wall, 5 bottles of beer.\n",
            "Take one down, pass it around, 4 bottles of beer on the wall.\n",
            "\n",
            "4 bottles of beer on the wall, 4 bottles of beer.\n",
            "Take one down, pass it around, 3 bottles of beer on the wall.\n",
            "\n",
            "3 bottles of beer on the wall, 3 bottles of beer.\n",
            "Take one down, pass it around, 2 bottles of beer on the wall.\n",
            "\n",
            "2 bottles of beer on the wall, 2 bottles of beer.\n",
            "Take one down, pass it around, 1 bottles of beer on the wall.\n",
            "\n",
            "1 bottles of beer on the wall, 1 bottles of beer.\n",
            "Take one down, pass it around, 0 bottles of beer on the wall.\n",
            "\n",
            "\n"
          ]
        }
      ]
    },
    {
      "cell_type": "markdown",
      "source": [
        "> Exercise 20"
      ],
      "metadata": {
        "id": "m3vXR2EOJYzs"
      }
    },
    {
      "cell_type": "code",
      "source": [
        "dic = {\"merry\":\"god\", \"christmas\":\"jul\",\\\n",
        "\"and\":\"och\", \"happy\":\"gott\", \"new\":\"nytt\", \"year\":\"år\"}\n",
        "\n",
        "def translate(list_eng):\n",
        "    dic = {\"merry\":\"god\", \"christmas\":\"jul\",\\\n",
        "\"and\":\"och\", \"happy\":\"gott\", \"new\":\"nytt\", \"year\":\"år\"}\n",
        "    list_dic = []\n",
        "    for i in list_eng:\n",
        "        list_dic.append(dic[i])\n",
        "    return list_dic\n",
        "\n",
        "ab = [\"merry\",\"happy\"]\n",
        "print(translate(ab))"
      ],
      "metadata": {
        "colab": {
          "base_uri": "https://localhost:8080/"
        },
        "id": "576l-4f1KSMT",
        "outputId": "4c7be09f-eeda-43e1-c673-ca881ed3401a"
      },
      "execution_count": 23,
      "outputs": [
        {
          "output_type": "stream",
          "name": "stdout",
          "text": [
            "['god', 'gott']\n"
          ]
        }
      ]
    },
    {
      "cell_type": "markdown",
      "source": [
        "> Exercise 21"
      ],
      "metadata": {
        "id": "DChqblc_Jpf3"
      }
    },
    {
      "cell_type": "code",
      "source": [
        "def char_freq(passed_string):\n",
        "    char_freq_dic = dict()\n",
        "    for c in passed_string:\n",
        "        if c in char_freq_dic.keys():\n",
        "            char_freq_dic[c]=char_freq_dic.get(c)+1\n",
        "        else:\n",
        "            char_freq_dic[c]=1\n",
        "    char_sorted_dic = sorted(char_freq_dic.items())\n",
        "    return char_sorted_dic\n",
        "\n",
        "print(char_freq(\"abbabcGDAbdbabdbdbababajsdhfdgfjsgfygbcbcbab\"))"
      ],
      "metadata": {
        "colab": {
          "base_uri": "https://localhost:8080/"
        },
        "id": "1zP7NNGUKdg0",
        "outputId": "f165856f-811f-4e85-f7db-2c7dd50144cb"
      },
      "execution_count": 24,
      "outputs": [
        {
          "output_type": "stream",
          "name": "stdout",
          "text": [
            "[('A', 1), ('D', 1), ('G', 1), ('a', 7), ('b', 14), ('c', 3), ('d', 5), ('f', 3), ('g', 3), ('h', 1), ('j', 2), ('s', 2), ('y', 1)]\n"
          ]
        }
      ]
    },
    {
      "cell_type": "markdown",
      "source": [
        "> Exercise 22"
      ],
      "metadata": {
        "id": "Q-qcm-IWJp5u"
      }
    },
    {
      "cell_type": "code",
      "source": [
        "def ROT_13(string):\n",
        "\n",
        "    key = {'a':'n', 'b':'o', 'c':'p', 'd':'q', 'e':'r', 'f':'s', 'g':'t', 'h':'u',\n",
        "'i':'v', 'j':'w', 'k':'x', 'l':'y', 'm':'z', 'n':'a', 'o':'b', 'p':'c',\n",
        "'q':'d', 'r':'e', 's':'f', 't':'g', 'u':'h', 'v':'i', 'w':'j', 'x':'k',\n",
        "'y':'l', 'z':'m', 'A':'N', 'B':'O', 'C':'P', 'D':'Q', 'E':'R', 'F':'S',\n",
        "'G':'T', 'H':'U', 'I':'V', 'J':'W', 'K':'X', 'L':'Y', 'M':'Z', 'N':'A',\n",
        "'O':'B', 'P':'C', 'Q':'D', 'R':'E', 'S':'F', 'T':'G', 'U':'H', 'V':'I',\n",
        "'W':'J', 'X':'K', 'Y':'L', 'Z':'M'}\n",
        "\n",
        "    code = ''\n",
        "    for i in string:\n",
        "        try:\n",
        "            code += key[i]\n",
        "        except:\n",
        "            code += i   # for space characters\n",
        "    return code\n",
        "\n",
        "print(ROT_13('Pnrfne pvcure? V zhpu cersre Pnrfne fnynq!'))"
      ],
      "metadata": {
        "colab": {
          "base_uri": "https://localhost:8080/"
        },
        "id": "QoNaH-SzKeS-",
        "outputId": "76ba5790-c283-463e-91c7-837decebd468"
      },
      "execution_count": 26,
      "outputs": [
        {
          "output_type": "stream",
          "name": "stdout",
          "text": [
            "Caesar cipher? I much prefer Caesar salad!\n"
          ]
        }
      ]
    },
    {
      "cell_type": "markdown",
      "source": [
        "> Exercise 23"
      ],
      "metadata": {
        "id": "aSrdGuwUJqR-"
      }
    },
    {
      "cell_type": "code",
      "source": [
        "import re\n",
        "def correct(passed_line):\n",
        "    passed_line = re.sub(\"\\s{2,}\",\" \",passed_line)\n",
        "    passed_line = re.sub(r'\\.(\\w)',r'. \\1',passed_line)\n",
        "    return passed_line\n",
        "\n",
        "print(correct(\"This is very funny and          cool.Indeed!okay. bye.\"))"
      ],
      "metadata": {
        "colab": {
          "base_uri": "https://localhost:8080/"
        },
        "id": "VjAjvELwKeyZ",
        "outputId": "01c7485b-3f72-47fa-9e21-dc941d224622"
      },
      "execution_count": 27,
      "outputs": [
        {
          "output_type": "stream",
          "name": "stdout",
          "text": [
            "This is very funny and cool. Indeed!okay. bye.\n"
          ]
        }
      ]
    },
    {
      "cell_type": "markdown",
      "source": [
        "> Exercise 24"
      ],
      "metadata": {
        "id": "8ll7HQ4rJtul"
      }
    },
    {
      "cell_type": "code",
      "source": [
        "def make_3sg_form(string):\n",
        "\n",
        "    con_2 = ('o','ch','s','sh','x','z')  # it's a tuple\n",
        "\n",
        "    if string.endswith('y'):\n",
        "        string = string[:-1]\n",
        "        string += 'ies'\n",
        "\n",
        "    elif string.endswith(con_2):   # doesn't work on list\n",
        "        string += 'es'              # but tuple\n",
        "\n",
        "    else:\n",
        "        string += 's'\n",
        "\n",
        "    return string\n",
        "\n",
        "\n",
        "\n",
        "verbs = ['try', 'brush' ,'run', 'fix']\n",
        "for item in verbs:\n",
        "    print(make_3sg_form(item))"
      ],
      "metadata": {
        "colab": {
          "base_uri": "https://localhost:8080/"
        },
        "id": "itG3ElEnKfFJ",
        "outputId": "ff318ece-3002-47fa-ad98-b7130f77014a"
      },
      "execution_count": 28,
      "outputs": [
        {
          "output_type": "stream",
          "name": "stdout",
          "text": [
            "tries\n",
            "brushes\n",
            "runs\n",
            "fixes\n"
          ]
        }
      ]
    },
    {
      "cell_type": "markdown",
      "source": [
        "> Exercise 25"
      ],
      "metadata": {
        "id": "mBUIV64xJtnG"
      }
    },
    {
      "cell_type": "code",
      "source": [
        "import string\n",
        "def make_ing_form(passed_string):\n",
        "    passed_string = passed_string.lower()\n",
        "    letter = list(string.ascii_lowercase)\n",
        "    vowel = ['a','e','i','o','u']\n",
        "    consonant = [c for c in letter if c not in vowel]\n",
        "    exception = ['be', 'see', 'flee', 'knee', 'lie']\n",
        "    if passed_string.endswith('e'):\n",
        "        if passed_string in exception:\n",
        "            return passed_string + 'ing'\n",
        "        else:\n",
        "            passed_string = passed_string[:-1]\n",
        "            return passed_string + 'ing'\n",
        "\n",
        "    elif passed_string.endswith('ie'):\n",
        "        passed_string = passed_string[:-2]\n",
        "        return passed_string + 'ying'\n",
        "\n",
        "    elif passed_string[-1] in consonant and passed_string[-2] in vowel and passed_string[-3] in consonant:\n",
        "        passed_string += passed_string[-1]\n",
        "        return passed_string + 'ing'\n",
        "    else:\n",
        "        return passed_string + 'ing'\n",
        "\n",
        "verb = ['lie', 'see', 'move', 'hug', 'study']\n",
        "for item in verb:\n",
        "    print(make_ing_form(item))"
      ],
      "metadata": {
        "colab": {
          "base_uri": "https://localhost:8080/"
        },
        "id": "2r8YnZsmKc9N",
        "outputId": "2b90ee19-6fc4-4c6a-b423-fff62a1cd8de"
      },
      "execution_count": 29,
      "outputs": [
        {
          "output_type": "stream",
          "name": "stdout",
          "text": [
            "lieing\n",
            "seeing\n",
            "moving\n",
            "hugging\n",
            "studying\n"
          ]
        }
      ]
    },
    {
      "cell_type": "markdown",
      "source": [
        "> Exercise 26"
      ],
      "metadata": {
        "id": "0JNTyeVzJtg3"
      }
    },
    {
      "cell_type": "code",
      "source": [
        "from functools import reduce\n",
        "\n",
        "def max_in_list(list_a):\n",
        "    return reduce(lambda a,b: a if (a>b) else b, list_a)\n",
        "\n",
        "ab = [5,7,2,4,11,56,32,45,9]\n",
        "print(max_in_list(ab))"
      ],
      "metadata": {
        "colab": {
          "base_uri": "https://localhost:8080/"
        },
        "id": "kAwTcLr6KckD",
        "outputId": "376d2a66-190e-473c-d303-7a738e64df43"
      },
      "execution_count": 30,
      "outputs": [
        {
          "output_type": "stream",
          "name": "stdout",
          "text": [
            "56\n"
          ]
        }
      ]
    },
    {
      "cell_type": "markdown",
      "source": [
        "> Exercise 27"
      ],
      "metadata": {
        "id": "mq0Slq1jJtb3"
      }
    },
    {
      "cell_type": "code",
      "source": [
        "def map_word_with_length_using_for(word_list):\n",
        "    map_word_length = dict()\n",
        "    for item in word_list:\n",
        "        map_word_length[item] = len(item)\n",
        "    return map_word_length\n",
        "\n",
        "\n",
        "\n",
        "\n",
        "def map_word_with_length_using_map(word_list):\n",
        "    word_len_list = list(map(lambda x:len(x),word_list))\n",
        "    return dict(zip(word_list,word_len_list))\n",
        "\n",
        "\n",
        "\n",
        "def map_word_with_length_using_list_comprehensions(word_list):\n",
        "    word_len_list = [len(item) for item in word_list]\n",
        "    return dict(zip(word_list, word_len_list))\n",
        "\n",
        "\n",
        "# list of Shanto's imaginary girlfriends :D\n",
        "word_list = ['mithila','prokriti','amrita']\n",
        "print(map_word_with_length_using_for(word_list))\n",
        "print(map_word_with_length_using_map(word_list))\n",
        "print(map_word_with_length_using_list_comprehensions(word_list))"
      ],
      "metadata": {
        "colab": {
          "base_uri": "https://localhost:8080/"
        },
        "id": "DS9NBWT1KcJs",
        "outputId": "e74a0f14-e957-4347-e818-7902bb28f254"
      },
      "execution_count": 31,
      "outputs": [
        {
          "output_type": "stream",
          "name": "stdout",
          "text": [
            "{'mithila': 7, 'prokriti': 8, 'amrita': 6}\n",
            "{'mithila': 7, 'prokriti': 8, 'amrita': 6}\n",
            "{'mithila': 7, 'prokriti': 8, 'amrita': 6}\n"
          ]
        }
      ]
    },
    {
      "cell_type": "markdown",
      "source": [
        "> Exercise 28"
      ],
      "metadata": {
        "id": "sGkvQKg4JtWN"
      }
    },
    {
      "cell_type": "code",
      "source": [
        "def find_longest_word(words):\n",
        "    # Find the lenght of each word\n",
        "    len_words = map(len, words)\n",
        "\n",
        "    # Only takes the longest one\n",
        "    return reduce(lambda a,b : a if a >= b else b, len_words)"
      ],
      "metadata": {
        "id": "pmEulsQvKb2N"
      },
      "execution_count": 37,
      "outputs": []
    },
    {
      "cell_type": "markdown",
      "source": [
        "> Exercise 29"
      ],
      "metadata": {
        "id": "_bIzLvWmJtQx"
      }
    },
    {
      "cell_type": "code",
      "source": [
        "def filter_long_words(list_a,n):\n",
        "    return list(filter(lambda x:len(x)>n, list_a))\n",
        "\n",
        "ab = ['abc','abcd','abcde','abcdef']\n",
        "print(filter_long_words(ab,4))"
      ],
      "metadata": {
        "colab": {
          "base_uri": "https://localhost:8080/"
        },
        "id": "jO22IrjlKbly",
        "outputId": "7710e6d5-9f1b-423d-8087-2fb66ea6f3cf"
      },
      "execution_count": 38,
      "outputs": [
        {
          "output_type": "stream",
          "name": "stdout",
          "text": [
            "['abcde', 'abcdef']\n"
          ]
        }
      ]
    },
    {
      "cell_type": "markdown",
      "source": [
        "> Exercise 30"
      ],
      "metadata": {
        "id": "I5km8QZMJtFd"
      }
    },
    {
      "cell_type": "code",
      "source": [
        "def translate(list_a):\n",
        "    dic = {\"merry\":\"god\", \"christmas\":\"jul\", \"and\":\"och\",\\\n",
        "           \"happy\":\"gott\",\"new\":\"nytt\", \"year\":\"år\"}\n",
        "    return list(map(lambda x:dic[x] if x in dic else False, list_a))\n",
        "                # \"if dict.get(x)\" - would work just fine\n",
        "                # map must return list of same number\n",
        "                # That's why the else part is needed\n",
        "\n",
        "\n",
        "ab = ['merry','and','new','sad']  # 'sad' not in the dictionary\n",
        "print(translate(ab))"
      ],
      "metadata": {
        "colab": {
          "base_uri": "https://localhost:8080/"
        },
        "id": "u4YmR0MxKbNv",
        "outputId": "88bb1e5f-7b1c-4a2d-cf6e-0dfc56fe6ce5"
      },
      "execution_count": 39,
      "outputs": [
        {
          "output_type": "stream",
          "name": "stdout",
          "text": [
            "['god', 'och', 'nytt', False]\n"
          ]
        }
      ]
    },
    {
      "cell_type": "markdown",
      "source": [
        "> Exercise 31"
      ],
      "metadata": {
        "id": "fHULWgAIJtAh"
      }
    },
    {
      "cell_type": "code",
      "source": [
        "def mymap(func,seq):\n",
        "    ini = []\n",
        "    for item in seq:\n",
        "        ini.append(func(item))\n",
        "    return ini\n",
        "\n",
        "def myfilter(func,seq):\n",
        "    ini = []\n",
        "    for item in seq:\n",
        "        if func(item)==True:\n",
        "            ini.append(item)\n",
        "    return ini\n",
        "\n",
        "def myreduce(func,seq):\n",
        "    i = len(seq)\n",
        "    while i>1:\n",
        "        f = func(seq[0],seq[1])\n",
        "        seq.pop(0)                  # \"del seq[0]\" do so\n",
        "        seq.pop(0)\n",
        "        seq.insert(0,f)\n",
        "        i = len(seq)\n",
        "    return seq[0]\n",
        "\n",
        "def myreduce_net(func, seq):\n",
        "    tmp = seq[0]\n",
        "    for item in seq[1:]:      # works with only 'seq' too\n",
        "        tmp = func(tmp,item)\n",
        "    return tmp\n",
        "\n",
        "print(mymap(len,['abc','abcd']))\n",
        "print(myfilter(lambda x:x>5,[1,3,5,7,9]))\n",
        "print(myreduce(lambda a,b:a if a>b else b,[3,7,4,5,1]))\n",
        "print(myreduce_net(lambda a,b:a if a>b else b,[3,7,4,5,1]))"
      ],
      "metadata": {
        "colab": {
          "base_uri": "https://localhost:8080/"
        },
        "id": "tMxfZ2pxKawc",
        "outputId": "23ce1c3a-cfd1-49cf-a332-63413abfd222"
      },
      "execution_count": 40,
      "outputs": [
        {
          "output_type": "stream",
          "name": "stdout",
          "text": [
            "[3, 4]\n",
            "[7, 9]\n",
            "7\n",
            "7\n"
          ]
        }
      ]
    }
  ]
}